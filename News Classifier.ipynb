{
 "cells": [
  {
   "cell_type": "code",
   "execution_count": null,
   "metadata": {},
   "outputs": [],
   "source": []
  },
  {
   "cell_type": "markdown",
   "metadata": {},
   "source": [
    "# Load Libraries"
   ]
  },
  {
   "cell_type": "code",
   "execution_count": 1,
   "metadata": {
    "ExecuteTime": {
     "end_time": "2020-06-14T11:06:28.964291Z",
     "start_time": "2020-06-14T11:06:24.591041Z"
    }
   },
   "outputs": [],
   "source": [
    "import re\n",
    "import pandas as pd\n",
    "import matplotlib.pyplot as plt\n",
    "import numpy as np\n",
    "%matplotlib inline"
   ]
  },
  {
   "cell_type": "code",
   "execution_count": 3,
   "metadata": {
    "ExecuteTime": {
     "end_time": "2020-06-14T11:07:46.365718Z",
     "start_time": "2020-06-14T11:07:43.113532Z"
    }
   },
   "outputs": [],
   "source": [
    "import spacy"
   ]
  },
  {
   "cell_type": "code",
   "execution_count": 34,
   "metadata": {
    "ExecuteTime": {
     "end_time": "2020-06-14T11:35:26.282660Z",
     "start_time": "2020-06-14T11:35:25.562618Z"
    }
   },
   "outputs": [],
   "source": [
    "train = pd.read_excel('Data_Train.xlsx')\n",
    "test = pd.read_excel(\"Data_Test.xlsx\")"
   ]
  },
  {
   "cell_type": "markdown",
   "metadata": {},
   "source": [
    "# Split into train and val set"
   ]
  },
  {
   "cell_type": "code",
   "execution_count": 39,
   "metadata": {
    "ExecuteTime": {
     "end_time": "2020-06-14T11:38:20.604630Z",
     "start_time": "2020-06-14T11:38:20.524626Z"
    }
   },
   "outputs": [],
   "source": [
    "from sklearn.model_selection import train_test_split\n",
    "\n",
    "train1,test1 = train_test_split(train,test_size=0.2)"
   ]
  },
  {
   "cell_type": "markdown",
   "metadata": {},
   "source": [
    "# Build model"
   ]
  },
  {
   "cell_type": "code",
   "execution_count": 40,
   "metadata": {
    "ExecuteTime": {
     "end_time": "2020-06-14T11:38:53.911535Z",
     "start_time": "2020-06-14T11:38:53.609518Z"
    }
   },
   "outputs": [],
   "source": [
    "#initialize blank nlp\n",
    "nlp = spacy.blank('en')"
   ]
  },
  {
   "cell_type": "code",
   "execution_count": 41,
   "metadata": {
    "ExecuteTime": {
     "end_time": "2020-06-14T11:38:55.375619Z",
     "start_time": "2020-06-14T11:38:55.361618Z"
    }
   },
   "outputs": [],
   "source": [
    "# Create the TextCategorizer with exclusive classes and \"bow\" architecture\n",
    "textcat = nlp.create_pipe(\n",
    "              \"textcat\",\n",
    "              config={\n",
    "                \"exclusive_classes\": True,\n",
    "                \"architecture\": \"bow\"})\n",
    "\n",
    "# Add the TextCategorizer to the empty model\n",
    "nlp.add_pipe(textcat)"
   ]
  },
  {
   "cell_type": "code",
   "execution_count": 42,
   "metadata": {
    "ExecuteTime": {
     "end_time": "2020-06-14T11:38:59.620862Z",
     "start_time": "2020-06-14T11:38:59.604861Z"
    }
   },
   "outputs": [
    {
     "data": {
      "text/plain": [
       "1"
      ]
     },
     "execution_count": 42,
     "metadata": {},
     "output_type": "execute_result"
    }
   ],
   "source": [
    "# Add labels to text classifier\n",
    "textcat.add_label(\"0\")\n",
    "textcat.add_label(\"1\")\n",
    "textcat.add_label(\"2\")\n",
    "textcat.add_label(\"3\")"
   ]
  },
  {
   "cell_type": "code",
   "execution_count": 43,
   "metadata": {
    "ExecuteTime": {
     "end_time": "2020-06-14T11:39:01.994998Z",
     "start_time": "2020-06-14T11:39:01.971996Z"
    }
   },
   "outputs": [],
   "source": [
    "train_texts = train1['STORY'].values\n",
    "train_labels = [{'cats': {'0' : label == 0,\n",
    "                          '1': label == 1,\n",
    "                          '2': label == 2,\n",
    "                         '3': label == 3,}} \n",
    "                for label in train1['SECTION']]\n"
   ]
  },
  {
   "cell_type": "code",
   "execution_count": 44,
   "metadata": {
    "ExecuteTime": {
     "end_time": "2020-06-14T11:39:07.229297Z",
     "start_time": "2020-06-14T11:39:07.210296Z"
    }
   },
   "outputs": [
    {
     "data": {
      "text/plain": [
       "[('Another medical equipment company, Omron, has developed a blood pressure tracker that can be worn on the wrist. According to a Research and Markets report, the wearable medical devices market is expected to reach $14.41 billion by 2022 from $6.22 billion in 2017.\\n\\n\\nGaming smartphones: The gaming industry generated revenue of $15.5 billion in 2018 and smartphone gaming accounted for 30% of this, claims market research firm Statista. To tap into this growing market, phone companies are developing smartphones meant specifically for gaming. For instance, the Razer Phone 2 has a 120Hz display, which means the frames will update faster compared to regular smartphone’s display, resulting in a more fluid gaming experience.\\n\\n\\nGaming phones also come with accessories meant to enhance gaming, but what’s missing so far are games that are meant for these. In 2019, we will hopefully start seeing developers take interest and make games that can take advantage of the features gaming phones bring to the table.\\n\\n\\nMultiple cameras and computational photography: With phones becoming the go to device for photography enthusiasts, phone companies are taking the experience to the next level by deploying multiple sensors and principles of computational photography.\\n\\n\\nThe Huawei Mate 20 Pro and P20 Pro have three cameras on the back, Samsung’s Galaxy A9 has four, and Nokia is said to be working on a phone with five cameras.\\n\\n\\nAccording to an August 2018 report by Counterpoint Research, 42% of all smartphones sold in July 2018 had dual or triple cameras on the back. Samsung has said that 10% of its phones to be launched in 2019 will have triple cameras. All these hardware additions are enhanced using software implementations. Cameras on almost every top phone are aided by AI and ML algorithms, showing the first steps in computational photography.',\n",
       "  {'cats': {'0': False, '1': True, '2': False, '3': False}}),\n",
       " ('The agency said the bank expects 50 percent of these potentially stressed loans to slip into NPAs and will provide more for the same going forward.\\n\\n\\nThe 8 percent dud loans include a gross NPAs of 4 percent which has been called out as potentially stressed, net standard restructured loans and security receipts of 0.8 percent of gross loans, the agency said.\\n\\n\\nOn a pro-forma basis, the provision coverage ratio is at 33 percent of the stressed assets, it added.\\n\\n\\n\"The balance sheet clean-up will strain the bank\\'s profitability in the next 12-18 months as it provides for these higher quantum of stressed assets,\" Moody\\'s warned.\\n\\n\\nThe agency also said the shift away from corporate loans to retail and small businesses will also strain the bottomline as the corporate loans have been a key source of earnings. But the shift is credit positive as such loans are better from an asset quality perspective, it added.\\n\\n\\nThe agency further noted that the bank has decided to slow down on loan growth to 20-25 percent, as against 34 percent average of recent years.',\n",
       "  {'cats': {'0': False, '1': False, '2': False, '3': True}}),\n",
       " ('The Nokia 8, launched in 2017, recently received an upgrade to Android Pie. It is the step in the right direction from HMD Global, the company responsible for the redemption of the Nokia brand. The company based out of Espoo, Finland tied up with Google to launch several Android One handsets, which guarantees regular security and firmware upgrades. As a result, most of the smartphones from Nokia in 2018 were also based on Android One, and so Nokia 3.1 Plus, Nokia 5.1 Plus, Nokia 6.1 Plus and Nokia 7.1 will all receive Android Pie upgrades. In fact, the Nokia 8.1 ships with Android One based on Pie out of the box.\\n\\n\\nOppo’s ex sub-brand Realme has also promised Android Pie updates. The Realme 1, Realme 2, Realme 2 Pro, Realme C1 and Realme U1 will all receive the latest version of Android Pie. The real question here remains whether Realme will address UI issues of Oppo’s ColorOS that it uses. The custom ROM has several jagged edges that stick out like a sore thumb, be it aesthetic issues or genuine bugs and crashes.\\n\\n\\nAndroid PieSamsungGoogle PixelRealmeNokiaOnePlusMotorolaAndroid Pie updateSamsung Android Pie updateGoogle Pixel Android Pie updateRealme Android Pie updateNokia Android Pie updateOnePlus Android Pie updateMotorola Android Pie update',\n",
       "  {'cats': {'0': False, '1': True, '2': False, '3': False}})]"
      ]
     },
     "execution_count": 44,
     "metadata": {},
     "output_type": "execute_result"
    }
   ],
   "source": [
    "train_data = list(zip(train_texts, train_labels))\n",
    "train_data[:3]"
   ]
  },
  {
   "cell_type": "code",
   "execution_count": 45,
   "metadata": {
    "ExecuteTime": {
     "end_time": "2020-06-14T11:40:03.816534Z",
     "start_time": "2020-06-14T11:39:15.372763Z"
    }
   },
   "outputs": [],
   "source": [
    "#train for one epoch\n",
    "from spacy.util import minibatch\n",
    "\n",
    "spacy.util.fix_random_seed(1)\n",
    "optimizer = nlp.begin_training()\n",
    "\n",
    "# Create the batch generator with batch size = 8\n",
    "batches = minibatch(train_data, size=8)\n",
    "# Iterate through minibatches\n",
    "for batch in batches:\n",
    "    # Each batch is a list of (text, label) but we need to\n",
    "    # send separate lists for texts and labels to update().\n",
    "    # This is a quick way to split a list of tuples into lists\n",
    "    texts, labels = zip(*batch)\n",
    "    nlp.update(texts, labels, sgd=optimizer)"
   ]
  },
  {
   "cell_type": "code",
   "execution_count": 108,
   "metadata": {
    "ExecuteTime": {
     "end_time": "2020-06-14T13:05:53.901102Z",
     "start_time": "2020-06-14T12:56:20.524306Z"
    }
   },
   "outputs": [
    {
     "name": "stdout",
     "output_type": "stream",
     "text": [
      "{'textcat': 0.0727414868509353}\n",
      "{'textcat': 0.1082060051094964}\n",
      "{'textcat': 0.1424010076583161}\n",
      "{'textcat': 0.17483801104697957}\n",
      "{'textcat': 0.2088904692358099}\n",
      "{'textcat': 0.24111218872345974}\n",
      "{'textcat': 0.2742818808966178}\n",
      "{'textcat': 0.30777039759574626}\n",
      "{'textcat': 0.3402137664455353}\n",
      "{'textcat': 0.37480958039822937}\n",
      "{'textcat': 0.4070982793819986}\n",
      "{'textcat': 0.44029202071194407}\n"
     ]
    }
   ],
   "source": [
    "#train for more epochs\n",
    "import random\n",
    "\n",
    "random.seed(1)\n",
    "spacy.util.fix_random_seed(1)\n",
    "optimizer = nlp.begin_training()\n",
    "\n",
    "losses = {}\n",
    "for epoch in range(10):\n",
    "    random.shuffle(train_data)\n",
    "    # Create the batch generator with batch size = 8\n",
    "    batches = minibatch(train_data, size=8)\n",
    "    # Iterate through minibatches\n",
    "    for batch in batches:\n",
    "        # Each batch is a list of (text, label) but we need to\n",
    "        # send separate lists for texts and labels to update().\n",
    "        # This is a quick way to split a list of tuples into lists\n",
    "        texts, labels = zip(*batch)\n",
    "        nlp.update(texts, labels, sgd=optimizer, losses=losses)\n",
    "    print(losses)"
   ]
  },
  {
   "cell_type": "markdown",
   "metadata": {},
   "source": [
    "# Make prediction for validation"
   ]
  },
  {
   "cell_type": "code",
   "execution_count": 109,
   "metadata": {
    "ExecuteTime": {
     "end_time": "2020-06-14T13:06:15.132316Z",
     "start_time": "2020-06-14T13:06:15.119315Z"
    }
   },
   "outputs": [],
   "source": [
    "test2 = list(test1.STORY.values)"
   ]
  },
  {
   "cell_type": "code",
   "execution_count": 110,
   "metadata": {
    "ExecuteTime": {
     "end_time": "2020-06-14T13:06:18.884531Z",
     "start_time": "2020-06-14T13:06:17.663461Z"
    }
   },
   "outputs": [],
   "source": [
    "docs = [nlp.tokenizer(text) for text in test2]"
   ]
  },
  {
   "cell_type": "code",
   "execution_count": 111,
   "metadata": {
    "ExecuteTime": {
     "end_time": "2020-06-14T13:06:20.768638Z",
     "start_time": "2020-06-14T13:06:20.575627Z"
    }
   },
   "outputs": [
    {
     "name": "stdout",
     "output_type": "stream",
     "text": [
      "[[1.39297059e-04 9.99787033e-01 1.40561305e-08 7.36587317e-05]\n",
      " [1.24183467e-17 1.53164447e-15 1.00000000e+00 4.16316093e-20]\n",
      " [5.69504984e-02 9.11339641e-01 9.35494882e-07 3.17089558e-02]\n",
      " ...\n",
      " [9.41736857e-07 9.99993205e-01 3.15500948e-15 5.82535586e-06]\n",
      " [1.33231097e-07 1.20212080e-08 9.99999881e-01 2.14986851e-09]\n",
      " [8.93609298e-10 1.00000000e+00 1.06844633e-12 6.00573688e-11]]\n"
     ]
    }
   ],
   "source": [
    "# Use textcat to get the scores for each doc\n",
    "textcat = nlp.get_pipe('textcat')\n",
    "scores, _ = textcat.predict(docs)\n",
    "\n",
    "print(scores)"
   ]
  },
  {
   "cell_type": "code",
   "execution_count": 88,
   "metadata": {
    "ExecuteTime": {
     "end_time": "2020-06-14T12:22:59.664864Z",
     "start_time": "2020-06-14T12:22:59.651863Z"
    }
   },
   "outputs": [],
   "source": [
    "import numpy as np"
   ]
  },
  {
   "cell_type": "code",
   "execution_count": 112,
   "metadata": {
    "ExecuteTime": {
     "end_time": "2020-06-14T13:06:24.781868Z",
     "start_time": "2020-06-14T13:06:24.764867Z"
    }
   },
   "outputs": [
    {
     "data": {
      "text/plain": [
       "(1526, 2)"
      ]
     },
     "execution_count": 112,
     "metadata": {},
     "output_type": "execute_result"
    }
   ],
   "source": [
    "test1.shape"
   ]
  },
  {
   "cell_type": "code",
   "execution_count": 113,
   "metadata": {
    "ExecuteTime": {
     "end_time": "2020-06-14T13:06:28.648089Z",
     "start_time": "2020-06-14T13:06:28.631088Z"
    }
   },
   "outputs": [],
   "source": [
    "# From the scores, find the label with the highest score/probability\n",
    "predicted_labels = scores.argmax(axis=1)\n",
    "pred = [textcat.labels[label] for label in predicted_labels]"
   ]
  },
  {
   "cell_type": "code",
   "execution_count": 114,
   "metadata": {
    "ExecuteTime": {
     "end_time": "2020-06-14T13:06:30.801212Z",
     "start_time": "2020-06-14T13:06:30.786211Z"
    }
   },
   "outputs": [],
   "source": [
    "pred = [int(te) for te in pred]"
   ]
  },
  {
   "cell_type": "code",
   "execution_count": 115,
   "metadata": {
    "ExecuteTime": {
     "end_time": "2020-06-14T13:06:35.915505Z",
     "start_time": "2020-06-14T13:06:35.906504Z"
    }
   },
   "outputs": [],
   "source": [
    "y = list(test1.SECTION.values)"
   ]
  },
  {
   "cell_type": "code",
   "execution_count": 116,
   "metadata": {
    "ExecuteTime": {
     "end_time": "2020-06-14T13:06:41.997853Z",
     "start_time": "2020-06-14T13:06:41.946850Z"
    }
   },
   "outputs": [],
   "source": [
    "from sklearn.metrics import confusion_matrix\n",
    "\n",
    "cm = confusion_matrix(y,pred)"
   ]
  },
  {
   "cell_type": "code",
   "execution_count": 64,
   "metadata": {
    "ExecuteTime": {
     "end_time": "2020-06-14T11:47:07.021740Z",
     "start_time": "2020-06-14T11:47:07.011739Z"
    }
   },
   "outputs": [
    {
     "data": {
      "text/plain": [
       "array([[310,   7,   6,   0],\n",
       "       [  7, 560,   3,   4],\n",
       "       [  1,   0, 382,   0],\n",
       "       [  4,   7,   0, 235]], dtype=int64)"
      ]
     },
     "execution_count": 64,
     "metadata": {},
     "output_type": "execute_result"
    }
   ],
   "source": [
    "cm"
   ]
  },
  {
   "cell_type": "code",
   "execution_count": 93,
   "metadata": {
    "ExecuteTime": {
     "end_time": "2020-06-14T12:23:48.167638Z",
     "start_time": "2020-06-14T12:23:48.148637Z"
    }
   },
   "outputs": [],
   "source": [
    "cm1 = confusion_matrix(y,pred)"
   ]
  },
  {
   "cell_type": "code",
   "execution_count": 94,
   "metadata": {
    "ExecuteTime": {
     "end_time": "2020-06-14T12:23:49.972741Z",
     "start_time": "2020-06-14T12:23:49.952740Z"
    }
   },
   "outputs": [
    {
     "data": {
      "text/plain": [
       "array([[309,   4,   8,   2],\n",
       "       [  6, 563,   0,   5],\n",
       "       [  0,   1, 382,   0],\n",
       "       [  1,   6,   0, 239]], dtype=int64)"
      ]
     },
     "execution_count": 94,
     "metadata": {},
     "output_type": "execute_result"
    }
   ],
   "source": [
    "cm1"
   ]
  },
  {
   "cell_type": "code",
   "execution_count": 95,
   "metadata": {
    "ExecuteTime": {
     "end_time": "2020-06-14T12:24:38.083493Z",
     "start_time": "2020-06-14T12:24:38.065492Z"
    }
   },
   "outputs": [
    {
     "data": {
      "text/plain": [
       "0.9783748361730014"
      ]
     },
     "execution_count": 95,
     "metadata": {},
     "output_type": "execute_result"
    }
   ],
   "source": [
    "from sklearn.metrics import accuracy_score\n",
    "\n",
    "accuracy_score(y,pred)"
   ]
  },
  {
   "cell_type": "code",
   "execution_count": 70,
   "metadata": {
    "ExecuteTime": {
     "end_time": "2020-06-14T11:50:32.900515Z",
     "start_time": "2020-06-14T11:50:32.674502Z"
    }
   },
   "outputs": [],
   "source": [
    "sub = pd.read_excel(\"Sample_submission.xlsx\")"
   ]
  },
  {
   "cell_type": "code",
   "execution_count": 71,
   "metadata": {
    "ExecuteTime": {
     "end_time": "2020-06-14T11:50:41.211991Z",
     "start_time": "2020-06-14T11:50:41.040981Z"
    }
   },
   "outputs": [
    {
     "data": {
      "text/html": [
       "<div>\n",
       "<style scoped>\n",
       "    .dataframe tbody tr th:only-of-type {\n",
       "        vertical-align: middle;\n",
       "    }\n",
       "\n",
       "    .dataframe tbody tr th {\n",
       "        vertical-align: top;\n",
       "    }\n",
       "\n",
       "    .dataframe thead th {\n",
       "        text-align: right;\n",
       "    }\n",
       "</style>\n",
       "<table border=\"1\" class=\"dataframe\">\n",
       "  <thead>\n",
       "    <tr style=\"text-align: right;\">\n",
       "      <th></th>\n",
       "      <th>SECTION</th>\n",
       "    </tr>\n",
       "  </thead>\n",
       "  <tbody>\n",
       "    <tr>\n",
       "      <th>0</th>\n",
       "      <td>3</td>\n",
       "    </tr>\n",
       "    <tr>\n",
       "      <th>1</th>\n",
       "      <td>3</td>\n",
       "    </tr>\n",
       "    <tr>\n",
       "      <th>2</th>\n",
       "      <td>3</td>\n",
       "    </tr>\n",
       "    <tr>\n",
       "      <th>3</th>\n",
       "      <td>3</td>\n",
       "    </tr>\n",
       "    <tr>\n",
       "      <th>4</th>\n",
       "      <td>3</td>\n",
       "    </tr>\n",
       "  </tbody>\n",
       "</table>\n",
       "</div>"
      ],
      "text/plain": [
       "   SECTION\n",
       "0        3\n",
       "1        3\n",
       "2        3\n",
       "3        3\n",
       "4        3"
      ]
     },
     "execution_count": 71,
     "metadata": {},
     "output_type": "execute_result"
    }
   ],
   "source": [
    "sub.head()"
   ]
  },
  {
   "cell_type": "code",
   "execution_count": null,
   "metadata": {},
   "outputs": [],
   "source": []
  },
  {
   "cell_type": "code",
   "execution_count": 96,
   "metadata": {
    "ExecuteTime": {
     "end_time": "2020-06-14T12:24:48.854109Z",
     "start_time": "2020-06-14T12:24:48.844108Z"
    }
   },
   "outputs": [],
   "source": [
    "test3 = list(test.STORY.values)"
   ]
  },
  {
   "cell_type": "code",
   "execution_count": 97,
   "metadata": {
    "ExecuteTime": {
     "end_time": "2020-06-14T12:24:52.911341Z",
     "start_time": "2020-06-14T12:24:50.846223Z"
    }
   },
   "outputs": [],
   "source": [
    "doc1 = [nlp.tokenizer(text) for text in test3]"
   ]
  },
  {
   "cell_type": "code",
   "execution_count": 98,
   "metadata": {
    "ExecuteTime": {
     "end_time": "2020-06-14T12:24:55.348480Z",
     "start_time": "2020-06-14T12:24:55.106467Z"
    }
   },
   "outputs": [
    {
     "name": "stdout",
     "output_type": "stream",
     "text": [
      "[[2.3126749e-24 1.0000000e+00 1.4219341e-27 6.8042236e-26]\n",
      " [4.9611945e-03 5.8653387e-03 9.8878968e-01 3.8375531e-04]\n",
      " [3.8559435e-25 1.0000000e+00 7.0478273e-25 5.7839805e-31]\n",
      " ...\n",
      " [9.0674794e-12 1.0000000e+00 4.4576186e-13 2.1177049e-13]\n",
      " [1.1190441e-01 5.2530664e-01 1.1336950e-10 3.6278889e-01]\n",
      " [6.5779767e-04 9.9921095e-01 2.7419554e-07 1.3103115e-04]]\n"
     ]
    }
   ],
   "source": [
    "score, _ = textcat.predict(doc1)\n",
    "\n",
    "print(score)"
   ]
  },
  {
   "cell_type": "code",
   "execution_count": 99,
   "metadata": {
    "ExecuteTime": {
     "end_time": "2020-06-14T12:24:59.210701Z",
     "start_time": "2020-06-14T12:24:59.202701Z"
    }
   },
   "outputs": [],
   "source": [
    "predicted_label = score.argmax(axis=1)\n",
    "pred1 = [textcat.labels[label] for label in predicted_label]"
   ]
  },
  {
   "cell_type": "code",
   "execution_count": 100,
   "metadata": {
    "ExecuteTime": {
     "end_time": "2020-06-14T12:25:01.360824Z",
     "start_time": "2020-06-14T12:25:01.353824Z"
    }
   },
   "outputs": [],
   "source": [
    "pred1 = [int(pr) for pr in pred1]"
   ]
  },
  {
   "cell_type": "code",
   "execution_count": 105,
   "metadata": {
    "ExecuteTime": {
     "end_time": "2020-06-14T12:25:51.092669Z",
     "start_time": "2020-06-14T12:25:51.078668Z"
    }
   },
   "outputs": [],
   "source": [
    "submission = pd.DataFrame(pred1)"
   ]
  },
  {
   "cell_type": "code",
   "execution_count": 106,
   "metadata": {
    "ExecuteTime": {
     "end_time": "2020-06-14T12:26:03.942404Z",
     "start_time": "2020-06-14T12:26:03.934403Z"
    }
   },
   "outputs": [],
   "source": [
    "submission = submission.rename(columns={0:'SECTION'})"
   ]
  },
  {
   "cell_type": "code",
   "execution_count": 107,
   "metadata": {
    "ExecuteTime": {
     "end_time": "2020-06-14T12:26:20.364343Z",
     "start_time": "2020-06-14T12:26:19.827312Z"
    }
   },
   "outputs": [],
   "source": [
    "submission.to_excel('submission1.xlsx',index=False)"
   ]
  }
 ],
 "metadata": {
  "kernelspec": {
   "display_name": "Python 3",
   "language": "python",
   "name": "python3"
  },
  "language_info": {
   "codemirror_mode": {
    "name": "ipython",
    "version": 3
   },
   "file_extension": ".py",
   "mimetype": "text/x-python",
   "name": "python",
   "nbconvert_exporter": "python",
   "pygments_lexer": "ipython3",
   "version": "3.7.6"
  },
  "toc": {
   "base_numbering": 1,
   "nav_menu": {},
   "number_sections": true,
   "sideBar": true,
   "skip_h1_title": false,
   "title_cell": "Table of Contents",
   "title_sidebar": "Contents",
   "toc_cell": false,
   "toc_position": {},
   "toc_section_display": true,
   "toc_window_display": true
  },
  "varInspector": {
   "cols": {
    "lenName": 16,
    "lenType": 16,
    "lenVar": 40
   },
   "kernels_config": {
    "python": {
     "delete_cmd_postfix": "",
     "delete_cmd_prefix": "del ",
     "library": "var_list.py",
     "varRefreshCmd": "print(var_dic_list())"
    },
    "r": {
     "delete_cmd_postfix": ") ",
     "delete_cmd_prefix": "rm(",
     "library": "var_list.r",
     "varRefreshCmd": "cat(var_dic_list()) "
    }
   },
   "types_to_exclude": [
    "module",
    "function",
    "builtin_function_or_method",
    "instance",
    "_Feature"
   ],
   "window_display": false
  }
 },
 "nbformat": 4,
 "nbformat_minor": 4
}
